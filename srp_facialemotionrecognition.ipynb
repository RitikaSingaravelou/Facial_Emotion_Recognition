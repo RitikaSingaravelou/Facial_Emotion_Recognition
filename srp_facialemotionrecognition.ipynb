{
  "nbformat": 4,
  "nbformat_minor": 0,
  "metadata": {
    "colab": {
      "name": "srp_facialemotionrecognition.ipynb",
      "provenance": [],
      "collapsed_sections": []
    },
    "kernelspec": {
      "name": "python3",
      "display_name": "Python 3"
    }
  },
  "cells": [
    {
      "cell_type": "code",
      "metadata": {
        "id": "0hHBeEOd0b_G"
      },
      "source": [
        "\n",
        "from sklearn import preprocessing\n",
        "import numpy as np\n",
        "import keras\n",
        "from keras.optimizers import Adam\n",
        "from keras.models import Sequential\n",
        "from keras.layers import Dense, Activation\n",
        "\n",
        "\n",
        "\n",
        "from sklearn.model_selection import train_test_split\n",
        "num_classes = 7 #'Angry','Disgust', 'Fear', 'Happy', 'Neutral', Sad', 'Surprise'\n",
        "\n",
        "np.random.seed(2000)\n"
      ],
      "execution_count": null,
      "outputs": []
    },
    {
      "cell_type": "code",
      "metadata": {
        "id": "mSJ5HYb69z5X"
      },
      "source": [
        "def prepare_data(filename):\n",
        "  x,y=[],[]\n",
        "  x_train,x_test,x_valid,y_train,y_test,y_valid=[],[],[],[],[],[]\n",
        "  with open(filename) as f:\n",
        "     c=f.readlines()\n",
        "     lines=np.array(c)\n",
        "     linecount=lines.size\n",
        "     for i in range(1,linecount):\n",
        "       emotion,distances=lines[i].split(',')\n",
        "       distances=distances.strip()\n",
        "       val=distances.split(' ')\n",
        "       val=np.array(val)\n",
        "       val=val.astype(np.float)\n",
        "\n",
        "       emotion=keras.utils.to_categorical(emotion,num_classes)\n",
        "       x.append(val)\n",
        "       y.append(emotion)\n",
        "     x_train,x_test,y_train,y_test=train_test_split(x,y,test_size=0.33,random_state=4)\n",
        "     \n",
        "\n",
        "     minmax=preprocessing.MinMaxScaler()\n",
        "     x_train=np.array(x_train)\n",
        "     y_train=np.array(y_train)\n",
        "     x_train=minmax.fit_transform(x_train)\n",
        "     x_test=np.array(x_test)\n",
        "     y_test=np.array(y_test)\n",
        "     x_test=minmax.fit_transform(x_test)\n",
        "     np.save('xtest',x_test)\n",
        "     np.save('ytest',y_test)\n",
        "     \n",
        "     return x_train,y_train,x_test,y_test"
      ],
      "execution_count": null,
      "outputs": []
    },
    {
      "cell_type": "code",
      "metadata": {
        "id": "icYebht99_-g",
        "colab": {
          "base_uri": "https://localhost:8080/"
        },
        "outputId": "f70bca56-2318-4c51-85f3-1cff7c271152"
      },
      "source": [
        "\n",
        "# Training and test data preparation  \n",
        "x_train, y_train, x_test, y_test = prepare_data(\"/content/drive/My Drive/JAFFE_CK.csv\")\n",
        "\n",
        "print (\"Training set size: \", str(len(x_train)))\n",
        "print (\"Test set size: \", str(len(x_test)))"
      ],
      "execution_count": null,
      "outputs": [
        {
          "output_type": "stream",
          "text": [
            "Training set size:  741\n",
            "Test set size:  365\n"
          ],
          "name": "stdout"
        }
      ]
    },
    {
      "cell_type": "code",
      "metadata": {
        "colab": {
          "base_uri": "https://localhost:8080/"
        },
        "id": "728DtbM4vPz7",
        "outputId": "4fd8e3ec-df4b-497c-9415-8c5191c18dd8"
      },
      "source": [
        "x_train"
      ],
      "execution_count": null,
      "outputs": [
        {
          "output_type": "execute_result",
          "data": {
            "text/plain": [
              "array([[0.        , 0.44662309, 0.47993019, ..., 0.2373678 , 0.11816193,\n",
              "        0.        ],\n",
              "       [0.        , 0.4379085 , 0.47353112, ..., 0.18507638, 0.24945295,\n",
              "        0.        ],\n",
              "       [0.        , 0.56753813, 0.61198371, ..., 0.2373678 , 0.22647702,\n",
              "        0.        ],\n",
              "       ...,\n",
              "       [0.        , 0.33769063, 0.35776614, ..., 0.17626322, 0.21881838,\n",
              "        0.        ],\n",
              "       [0.        , 0.65577342, 0.76323444, ..., 0.47179788, 0.44420131,\n",
              "        0.        ],\n",
              "       [0.        , 0.4379085 , 0.40663176, ..., 0.35252644, 0.33479212,\n",
              "        0.        ]])"
            ]
          },
          "metadata": {
            "tags": []
          },
          "execution_count": 5
        }
      ]
    },
    {
      "cell_type": "code",
      "metadata": {
        "colab": {
          "base_uri": "https://localhost:8080/"
        },
        "id": "mgZJGbXWyRp_",
        "outputId": "3f718574-5ae3-4c72-8689-61884e1a3163"
      },
      "source": [
        "y_train"
      ],
      "execution_count": null,
      "outputs": [
        {
          "output_type": "execute_result",
          "data": {
            "text/plain": [
              "array([[0., 0., 0., ..., 1., 0., 0.],\n",
              "       [0., 0., 0., ..., 0., 0., 1.],\n",
              "       [1., 0., 0., ..., 0., 0., 0.],\n",
              "       ...,\n",
              "       [0., 0., 0., ..., 1., 0., 0.],\n",
              "       [0., 0., 0., ..., 1., 0., 0.],\n",
              "       [0., 0., 1., ..., 0., 0., 0.]], dtype=float32)"
            ]
          },
          "metadata": {
            "tags": []
          },
          "execution_count": 6
        }
      ]
    },
    {
      "cell_type": "code",
      "metadata": {
        "id": "8705nquY6QhL",
        "colab": {
          "base_uri": "https://localhost:8080/"
        },
        "outputId": "a4c18f1f-ca7e-4022-b969-4fd571a0fc5a"
      },
      "source": [
        "\n",
        "model = Sequential()\n",
        "model.add(Dense(512, input_shape=(4624,),activation='relu'))\n",
        "\n",
        "model.add(Dense(512,activation='relu'))\n",
        "\n",
        "model.add(Dense(512,activation='relu'))\n",
        "\n",
        "\n",
        "model.add(Dense(num_classes, activation='softmax'))\n",
        "model.summary()"
      ],
      "execution_count": null,
      "outputs": [
        {
          "output_type": "stream",
          "text": [
            "Model: \"sequential\"\n",
            "_________________________________________________________________\n",
            "Layer (type)                 Output Shape              Param #   \n",
            "=================================================================\n",
            "dense (Dense)                (None, 512)               2368000   \n",
            "_________________________________________________________________\n",
            "dense_1 (Dense)              (None, 512)               262656    \n",
            "_________________________________________________________________\n",
            "dense_2 (Dense)              (None, 512)               262656    \n",
            "_________________________________________________________________\n",
            "dense_3 (Dense)              (None, 7)                 3591      \n",
            "=================================================================\n",
            "Total params: 2,896,903\n",
            "Trainable params: 2,896,903\n",
            "Non-trainable params: 0\n",
            "_________________________________________________________________\n"
          ],
          "name": "stdout"
        }
      ]
    },
    {
      "cell_type": "code",
      "metadata": {
        "id": "o7hoOewAyPHd"
      },
      "source": [
        ""
      ],
      "execution_count": null,
      "outputs": []
    },
    {
      "cell_type": "code",
      "metadata": {
        "id": "z5kYzzcKTVie",
        "colab": {
          "base_uri": "https://localhost:8080/",
          "height": 466
        },
        "outputId": "6cfb1d6b-cead-4cb1-97dd-a763ac7844b9"
      },
      "source": [
        "from IPython.display import SVG\n",
        "from keras.utils.vis_utils import model_to_dot\n",
        "from IPython.display import Image\n",
        "from keras.utils import plot_model\n",
        "\n",
        "\n",
        "SVG(model_to_dot(model, show_shapes=True).create(prog='dot', format='svg'))\n",
        "plot_model(model, show_shapes=False, show_layer_names=True, to_file='model.png')"
      ],
      "execution_count": null,
      "outputs": [
        {
          "output_type": "execute_result",
          "data": {
            "image/png": "[encoded data removed]",
            "text/plain": [
              "<IPython.core.display.Image object>"
            ]
          },
          "metadata": {
            "tags": []
          },
          "execution_count": 8
        }
      ]
    },
    {
      "cell_type": "code",
      "metadata": {
        "id": "6Nd-h7-Q6V_U"
      },
      "source": [
        "\n",
        "#compile the model\n",
        "opt = keras.optimizers.Adam(lr=0.00001)\n",
        "model.compile(loss='categorical_crossentropy', optimizer=opt, metrics=['accuracy'])"
      ],
      "execution_count": null,
      "outputs": []
    },
    {
      "cell_type": "code",
      "metadata": {
        "colab": {
          "base_uri": "https://localhost:8080/"
        },
        "id": "m2VM7ThbyrUv",
        "outputId": "5ab16b51-e472-429c-ad97-eb4990b7c79c"
      },
      "source": [
        "from keras.callbacks import EarlyStopping,ReduceLROnPlateau\n",
        "reduction_lr = ReduceLROnPlateau(monitor = \"val_loss\",patience = 1 ,verbose = 1, factor = 0.1, min_lr = 0.0001)\n",
        "early_stopper = EarlyStopping(monitor='val_loss', min_delta=0, patience=6, mode='auto')\n",
        "history = model.fit(x_train, \n",
        "                      y_train,\n",
        "                      epochs=100, \n",
        "                      verbose=1, \n",
        "                      batch_size=32,\n",
        "                      validation_data=(x_test, y_test),\n",
        "                    callbacks=[reduction_lr,early_stopper],\n",
        "                    shuffle=False\n",
        "                    ) \n",
        "\n",
        "scores = model.evaluate(x_test, y_test)\n",
        "print(\"\\n%s: %.2f%%\" % (model.metrics_names[1], scores[1]*100))"
      ],
      "execution_count": null,
      "outputs": [
        {
          "output_type": "stream",
          "text": [
            "Epoch 1/100\n",
            "24/24 [==============================] - 1s 31ms/step - loss: 1.6185 - accuracy: 0.5128 - val_loss: 1.4029 - val_accuracy: 0.5836\n",
            "Epoch 2/100\n",
            "24/24 [==============================] - 1s 25ms/step - loss: 1.4135 - accuracy: 0.5533 - val_loss: 1.2950 - val_accuracy: 0.5890\n",
            "Epoch 3/100\n",
            "24/24 [==============================] - 1s 24ms/step - loss: 1.3032 - accuracy: 0.5816 - val_loss: 1.2070 - val_accuracy: 0.6521\n",
            "Epoch 4/100\n",
            "24/24 [==============================] - 1s 24ms/step - loss: 1.2211 - accuracy: 0.6154 - val_loss: 1.1334 - val_accuracy: 0.6822\n",
            "Epoch 5/100\n",
            "24/24 [==============================] - 1s 24ms/step - loss: 1.1532 - accuracy: 0.6424 - val_loss: 1.0748 - val_accuracy: 0.7233\n",
            "Epoch 6/100\n",
            "24/24 [==============================] - 1s 24ms/step - loss: 1.0952 - accuracy: 0.6626 - val_loss: 1.0243 - val_accuracy: 0.7370\n",
            "Epoch 7/100\n",
            "24/24 [==============================] - 1s 24ms/step - loss: 1.0430 - accuracy: 0.6802 - val_loss: 0.9812 - val_accuracy: 0.7452\n",
            "Epoch 8/100\n",
            "24/24 [==============================] - 1s 25ms/step - loss: 0.9973 - accuracy: 0.6910 - val_loss: 0.9448 - val_accuracy: 0.7534\n",
            "Epoch 9/100\n",
            "24/24 [==============================] - 1s 25ms/step - loss: 0.9579 - accuracy: 0.6950 - val_loss: 0.9142 - val_accuracy: 0.7507\n",
            "Epoch 10/100\n",
            "24/24 [==============================] - 1s 24ms/step - loss: 0.9228 - accuracy: 0.7031 - val_loss: 0.8873 - val_accuracy: 0.7562\n",
            "Epoch 11/100\n",
            "24/24 [==============================] - 1s 25ms/step - loss: 0.8917 - accuracy: 0.7099 - val_loss: 0.8638 - val_accuracy: 0.7562\n",
            "Epoch 12/100\n",
            "24/24 [==============================] - 1s 24ms/step - loss: 0.8631 - accuracy: 0.7179 - val_loss: 0.8427 - val_accuracy: 0.7616\n",
            "Epoch 13/100\n",
            "24/24 [==============================] - 1s 24ms/step - loss: 0.8369 - accuracy: 0.7220 - val_loss: 0.8231 - val_accuracy: 0.7644\n",
            "Epoch 14/100\n",
            "24/24 [==============================] - 1s 25ms/step - loss: 0.8122 - accuracy: 0.7260 - val_loss: 0.8058 - val_accuracy: 0.7644\n",
            "Epoch 15/100\n",
            "24/24 [==============================] - 1s 24ms/step - loss: 0.7898 - accuracy: 0.7328 - val_loss: 0.7878 - val_accuracy: 0.7671\n",
            "Epoch 16/100\n",
            "24/24 [==============================] - 1s 25ms/step - loss: 0.7692 - accuracy: 0.7382 - val_loss: 0.7744 - val_accuracy: 0.7699\n",
            "Epoch 17/100\n",
            "24/24 [==============================] - 1s 24ms/step - loss: 0.7507 - accuracy: 0.7449 - val_loss: 0.7609 - val_accuracy: 0.7781\n",
            "Epoch 18/100\n",
            "24/24 [==============================] - 1s 24ms/step - loss: 0.7328 - accuracy: 0.7463 - val_loss: 0.7492 - val_accuracy: 0.7836\n",
            "Epoch 19/100\n",
            "24/24 [==============================] - 1s 24ms/step - loss: 0.7162 - accuracy: 0.7490 - val_loss: 0.7363 - val_accuracy: 0.7836\n",
            "Epoch 20/100\n",
            "24/24 [==============================] - 1s 23ms/step - loss: 0.6999 - accuracy: 0.7530 - val_loss: 0.7257 - val_accuracy: 0.7918\n",
            "Epoch 21/100\n",
            "24/24 [==============================] - 1s 24ms/step - loss: 0.6856 - accuracy: 0.7571 - val_loss: 0.7162 - val_accuracy: 0.7863\n",
            "Epoch 22/100\n",
            "24/24 [==============================] - 1s 23ms/step - loss: 0.6718 - accuracy: 0.7625 - val_loss: 0.7077 - val_accuracy: 0.7945\n",
            "Epoch 23/100\n",
            "24/24 [==============================] - 1s 24ms/step - loss: 0.6588 - accuracy: 0.7665 - val_loss: 0.7000 - val_accuracy: 0.7945\n",
            "Epoch 24/100\n",
            "24/24 [==============================] - 1s 23ms/step - loss: 0.6461 - accuracy: 0.7692 - val_loss: 0.6907 - val_accuracy: 0.8000\n",
            "Epoch 25/100\n",
            "24/24 [==============================] - 1s 23ms/step - loss: 0.6340 - accuracy: 0.7719 - val_loss: 0.6843 - val_accuracy: 0.8027\n",
            "Epoch 26/100\n",
            "24/24 [==============================] - 1s 25ms/step - loss: 0.6230 - accuracy: 0.7733 - val_loss: 0.6777 - val_accuracy: 0.8055\n",
            "Epoch 27/100\n",
            "24/24 [==============================] - 1s 23ms/step - loss: 0.6125 - accuracy: 0.7773 - val_loss: 0.6715 - val_accuracy: 0.8055\n",
            "Epoch 28/100\n",
            "24/24 [==============================] - 1s 24ms/step - loss: 0.6019 - accuracy: 0.7760 - val_loss: 0.6646 - val_accuracy: 0.8055\n",
            "Epoch 29/100\n",
            "24/24 [==============================] - 1s 24ms/step - loss: 0.5919 - accuracy: 0.7841 - val_loss: 0.6587 - val_accuracy: 0.8082\n",
            "Epoch 30/100\n",
            "24/24 [==============================] - 1s 23ms/step - loss: 0.5828 - accuracy: 0.7827 - val_loss: 0.6528 - val_accuracy: 0.8082\n",
            "Epoch 31/100\n",
            "24/24 [==============================] - 1s 23ms/step - loss: 0.5738 - accuracy: 0.7827 - val_loss: 0.6475 - val_accuracy: 0.8055\n",
            "Epoch 32/100\n",
            "24/24 [==============================] - 1s 24ms/step - loss: 0.5652 - accuracy: 0.7881 - val_loss: 0.6423 - val_accuracy: 0.8082\n",
            "Epoch 33/100\n",
            "24/24 [==============================] - 1s 24ms/step - loss: 0.5567 - accuracy: 0.7908 - val_loss: 0.6375 - val_accuracy: 0.8055\n",
            "Epoch 34/100\n",
            "24/24 [==============================] - 1s 23ms/step - loss: 0.5490 - accuracy: 0.8016 - val_loss: 0.6331 - val_accuracy: 0.8110\n",
            "Epoch 35/100\n",
            "24/24 [==============================] - 1s 25ms/step - loss: 0.5413 - accuracy: 0.8016 - val_loss: 0.6289 - val_accuracy: 0.8082\n",
            "Epoch 36/100\n",
            "24/24 [==============================] - 1s 24ms/step - loss: 0.5342 - accuracy: 0.8030 - val_loss: 0.6259 - val_accuracy: 0.8082\n",
            "Epoch 37/100\n",
            "24/24 [==============================] - 1s 23ms/step - loss: 0.5276 - accuracy: 0.8070 - val_loss: 0.6214 - val_accuracy: 0.8110\n",
            "Epoch 38/100\n",
            "24/24 [==============================] - 1s 24ms/step - loss: 0.5204 - accuracy: 0.8070 - val_loss: 0.6182 - val_accuracy: 0.8110\n",
            "Epoch 39/100\n",
            "24/24 [==============================] - 1s 23ms/step - loss: 0.5138 - accuracy: 0.8124 - val_loss: 0.6141 - val_accuracy: 0.8082\n",
            "Epoch 40/100\n",
            "24/24 [==============================] - 1s 25ms/step - loss: 0.5074 - accuracy: 0.8151 - val_loss: 0.6117 - val_accuracy: 0.8082\n",
            "Epoch 41/100\n",
            "24/24 [==============================] - 1s 24ms/step - loss: 0.5018 - accuracy: 0.8178 - val_loss: 0.6083 - val_accuracy: 0.8055\n",
            "Epoch 42/100\n",
            "24/24 [==============================] - 1s 23ms/step - loss: 0.4955 - accuracy: 0.8205 - val_loss: 0.6063 - val_accuracy: 0.8082\n",
            "Epoch 43/100\n",
            "24/24 [==============================] - 1s 24ms/step - loss: 0.4897 - accuracy: 0.8205 - val_loss: 0.6025 - val_accuracy: 0.8082\n",
            "Epoch 44/100\n",
            "24/24 [==============================] - 1s 25ms/step - loss: 0.4843 - accuracy: 0.8232 - val_loss: 0.6016 - val_accuracy: 0.8082\n",
            "Epoch 45/100\n",
            "24/24 [==============================] - 1s 24ms/step - loss: 0.4788 - accuracy: 0.8273 - val_loss: 0.5983 - val_accuracy: 0.8082\n",
            "Epoch 46/100\n",
            "24/24 [==============================] - 1s 23ms/step - loss: 0.4736 - accuracy: 0.8286 - val_loss: 0.5965 - val_accuracy: 0.8082\n",
            "Epoch 47/100\n",
            "24/24 [==============================] - 1s 24ms/step - loss: 0.4689 - accuracy: 0.8313 - val_loss: 0.5942 - val_accuracy: 0.8082\n",
            "Epoch 48/100\n",
            "24/24 [==============================] - 1s 24ms/step - loss: 0.4639 - accuracy: 0.8340 - val_loss: 0.5928 - val_accuracy: 0.8082\n",
            "Epoch 49/100\n",
            "24/24 [==============================] - 1s 24ms/step - loss: 0.4591 - accuracy: 0.8367 - val_loss: 0.5916 - val_accuracy: 0.8082\n",
            "Epoch 50/100\n",
            "24/24 [==============================] - 1s 24ms/step - loss: 0.4545 - accuracy: 0.8394 - val_loss: 0.5886 - val_accuracy: 0.8082\n",
            "Epoch 51/100\n",
            "24/24 [==============================] - 1s 23ms/step - loss: 0.4501 - accuracy: 0.8408 - val_loss: 0.5885 - val_accuracy: 0.8082\n",
            "Epoch 52/100\n",
            "24/24 [==============================] - 1s 24ms/step - loss: 0.4460 - accuracy: 0.8435 - val_loss: 0.5862 - val_accuracy: 0.8082\n",
            "Epoch 53/100\n",
            "24/24 [==============================] - 1s 24ms/step - loss: 0.4417 - accuracy: 0.8462 - val_loss: 0.5843 - val_accuracy: 0.8082\n",
            "Epoch 54/100\n",
            "24/24 [==============================] - 1s 24ms/step - loss: 0.4376 - accuracy: 0.8462 - val_loss: 0.5832 - val_accuracy: 0.8082\n",
            "Epoch 55/100\n",
            "24/24 [==============================] - 1s 24ms/step - loss: 0.4335 - accuracy: 0.8489 - val_loss: 0.5810 - val_accuracy: 0.8110\n",
            "Epoch 56/100\n",
            "24/24 [==============================] - 1s 23ms/step - loss: 0.4296 - accuracy: 0.8502 - val_loss: 0.5797 - val_accuracy: 0.8110\n",
            "Epoch 57/100\n",
            "24/24 [==============================] - 1s 24ms/step - loss: 0.4259 - accuracy: 0.8516 - val_loss: 0.5776 - val_accuracy: 0.8082\n",
            "Epoch 58/100\n",
            "24/24 [==============================] - 1s 24ms/step - loss: 0.4219 - accuracy: 0.8543 - val_loss: 0.5770 - val_accuracy: 0.8110\n",
            "Epoch 59/100\n",
            "24/24 [==============================] - 1s 23ms/step - loss: 0.4185 - accuracy: 0.8543 - val_loss: 0.5736 - val_accuracy: 0.8110\n",
            "Epoch 60/100\n",
            "24/24 [==============================] - 1s 24ms/step - loss: 0.4146 - accuracy: 0.8556 - val_loss: 0.5732 - val_accuracy: 0.8110\n",
            "Epoch 61/100\n",
            "24/24 [==============================] - 1s 24ms/step - loss: 0.4114 - accuracy: 0.8583 - val_loss: 0.5718 - val_accuracy: 0.8110\n",
            "Epoch 62/100\n",
            "24/24 [==============================] - 1s 24ms/step - loss: 0.4078 - accuracy: 0.8583 - val_loss: 0.5706 - val_accuracy: 0.8110\n",
            "Epoch 63/100\n",
            "24/24 [==============================] - 1s 24ms/step - loss: 0.4044 - accuracy: 0.8650 - val_loss: 0.5690 - val_accuracy: 0.8110\n",
            "Epoch 64/100\n",
            "24/24 [==============================] - 1s 23ms/step - loss: 0.4011 - accuracy: 0.8650 - val_loss: 0.5686 - val_accuracy: 0.8110\n",
            "Epoch 65/100\n",
            "24/24 [==============================] - 1s 24ms/step - loss: 0.3980 - accuracy: 0.8677 - val_loss: 0.5667 - val_accuracy: 0.8110\n",
            "Epoch 66/100\n",
            "24/24 [==============================] - 1s 23ms/step - loss: 0.3947 - accuracy: 0.8704 - val_loss: 0.5658 - val_accuracy: 0.8110\n",
            "Epoch 67/100\n",
            "24/24 [==============================] - 1s 25ms/step - loss: 0.3918 - accuracy: 0.8691 - val_loss: 0.5644 - val_accuracy: 0.8164\n",
            "Epoch 68/100\n",
            "24/24 [==============================] - 1s 23ms/step - loss: 0.3887 - accuracy: 0.8731 - val_loss: 0.5642 - val_accuracy: 0.8164\n",
            "Epoch 69/100\n",
            "24/24 [==============================] - 1s 24ms/step - loss: 0.3857 - accuracy: 0.8718 - val_loss: 0.5630 - val_accuracy: 0.8137\n",
            "Epoch 70/100\n",
            "24/24 [==============================] - 1s 24ms/step - loss: 0.3831 - accuracy: 0.8731 - val_loss: 0.5608 - val_accuracy: 0.8137\n",
            "Epoch 71/100\n",
            "24/24 [==============================] - 1s 24ms/step - loss: 0.3800 - accuracy: 0.8731 - val_loss: 0.5607 - val_accuracy: 0.8137\n",
            "Epoch 72/100\n",
            "24/24 [==============================] - 1s 24ms/step - loss: 0.3770 - accuracy: 0.8731 - val_loss: 0.5589 - val_accuracy: 0.8164\n",
            "Epoch 73/100\n",
            "24/24 [==============================] - 1s 24ms/step - loss: 0.3743 - accuracy: 0.8745 - val_loss: 0.5583 - val_accuracy: 0.8164\n",
            "Epoch 74/100\n",
            "24/24 [==============================] - 1s 24ms/step - loss: 0.3716 - accuracy: 0.8758 - val_loss: 0.5578 - val_accuracy: 0.8164\n",
            "Epoch 75/100\n",
            "24/24 [==============================] - 1s 24ms/step - loss: 0.3690 - accuracy: 0.8785 - val_loss: 0.5574 - val_accuracy: 0.8164\n",
            "Epoch 76/100\n",
            "24/24 [==============================] - 1s 24ms/step - loss: 0.3665 - accuracy: 0.8785 - val_loss: 0.5556 - val_accuracy: 0.8164\n",
            "Epoch 77/100\n",
            "24/24 [==============================] - 1s 24ms/step - loss: 0.3636 - accuracy: 0.8785 - val_loss: 0.5559 - val_accuracy: 0.8164\n",
            "Epoch 78/100\n",
            "24/24 [==============================] - 1s 23ms/step - loss: 0.3614 - accuracy: 0.8785 - val_loss: 0.5545 - val_accuracy: 0.8192\n",
            "Epoch 79/100\n",
            "24/24 [==============================] - 1s 25ms/step - loss: 0.3587 - accuracy: 0.8799 - val_loss: 0.5549 - val_accuracy: 0.8192\n",
            "Epoch 80/100\n",
            "24/24 [==============================] - 1s 24ms/step - loss: 0.3564 - accuracy: 0.8799 - val_loss: 0.5531 - val_accuracy: 0.8192\n",
            "Epoch 81/100\n",
            "24/24 [==============================] - 1s 24ms/step - loss: 0.3537 - accuracy: 0.8826 - val_loss: 0.5535 - val_accuracy: 0.8164\n",
            "Epoch 82/100\n",
            "24/24 [==============================] - 1s 24ms/step - loss: 0.3515 - accuracy: 0.8826 - val_loss: 0.5527 - val_accuracy: 0.8164\n",
            "Epoch 83/100\n",
            "24/24 [==============================] - 1s 23ms/step - loss: 0.3490 - accuracy: 0.8853 - val_loss: 0.5513 - val_accuracy: 0.8164\n",
            "Epoch 84/100\n",
            "24/24 [==============================] - 1s 25ms/step - loss: 0.3468 - accuracy: 0.8920 - val_loss: 0.5508 - val_accuracy: 0.8192\n",
            "Epoch 85/100\n",
            "24/24 [==============================] - 1s 24ms/step - loss: 0.3445 - accuracy: 0.8920 - val_loss: 0.5506 - val_accuracy: 0.8164\n",
            "Epoch 86/100\n",
            "24/24 [==============================] - 1s 24ms/step - loss: 0.3423 - accuracy: 0.8920 - val_loss: 0.5488 - val_accuracy: 0.8192\n",
            "Epoch 87/100\n",
            "24/24 [==============================] - 1s 24ms/step - loss: 0.3399 - accuracy: 0.8920 - val_loss: 0.5491 - val_accuracy: 0.8192\n",
            "Epoch 88/100\n",
            "24/24 [==============================] - 1s 24ms/step - loss: 0.3380 - accuracy: 0.8934 - val_loss: 0.5488 - val_accuracy: 0.8192\n",
            "Epoch 89/100\n",
            "24/24 [==============================] - 1s 24ms/step - loss: 0.3356 - accuracy: 0.8934 - val_loss: 0.5477 - val_accuracy: 0.8192\n",
            "Epoch 90/100\n",
            "24/24 [==============================] - 1s 24ms/step - loss: 0.3335 - accuracy: 0.8934 - val_loss: 0.5468 - val_accuracy: 0.8219\n",
            "Epoch 91/100\n",
            "24/24 [==============================] - 1s 24ms/step - loss: 0.3313 - accuracy: 0.8947 - val_loss: 0.5455 - val_accuracy: 0.8219\n",
            "Epoch 92/100\n",
            "24/24 [==============================] - 1s 24ms/step - loss: 0.3292 - accuracy: 0.8947 - val_loss: 0.5455 - val_accuracy: 0.8247\n",
            "Epoch 93/100\n",
            "24/24 [==============================] - 1s 25ms/step - loss: 0.3273 - accuracy: 0.8947 - val_loss: 0.5444 - val_accuracy: 0.8247\n",
            "Epoch 94/100\n",
            "24/24 [==============================] - 1s 24ms/step - loss: 0.3250 - accuracy: 0.8988 - val_loss: 0.5432 - val_accuracy: 0.8219\n",
            "Epoch 95/100\n",
            "24/24 [==============================] - 1s 24ms/step - loss: 0.3230 - accuracy: 0.9015 - val_loss: 0.5414 - val_accuracy: 0.8219\n",
            "Epoch 96/100\n",
            "24/24 [==============================] - 1s 24ms/step - loss: 0.3212 - accuracy: 0.9042 - val_loss: 0.5418 - val_accuracy: 0.8247\n",
            "Epoch 97/100\n",
            "24/24 [==============================] - 1s 24ms/step - loss: 0.3194 - accuracy: 0.9055 - val_loss: 0.5423 - val_accuracy: 0.8247\n",
            "Epoch 98/100\n",
            "24/24 [==============================] - 1s 25ms/step - loss: 0.3172 - accuracy: 0.9055 - val_loss: 0.5419 - val_accuracy: 0.8247\n",
            "Epoch 99/100\n",
            "24/24 [==============================] - 1s 24ms/step - loss: 0.3152 - accuracy: 0.9055 - val_loss: 0.5407 - val_accuracy: 0.8274\n",
            "Epoch 100/100\n",
            "24/24 [==============================] - 1s 23ms/step - loss: 0.3131 - accuracy: 0.9069 - val_loss: 0.5392 - val_accuracy: 0.8274\n",
            "12/12 [==============================] - 0s 6ms/step - loss: 0.5392 - accuracy: 0.8274\n",
            "\n",
            "accuracy: 82.74%\n"
          ],
          "name": "stdout"
        }
      ]
    },
    {
      "cell_type": "code",
      "metadata": {
        "id": "y17GcQI428wh"
      },
      "source": [
        "model_json = model.to_json()\n",
        "with open(\"fer_model.json\", \"w\") as json_file:\n",
        " json_file.write(model_json)\n",
        "model.save_weights(\"model_wts.h5\")\n",
        "#print(\"Saved model to disk\")"
      ],
      "execution_count": null,
      "outputs": []
    },
    {
      "cell_type": "code",
      "metadata": {
        "id": "XsDbhbzr1UTw"
      },
      "source": [
        "model.save('model-fer_.h5') "
      ],
      "execution_count": null,
      "outputs": []
    },
    {
      "cell_type": "code",
      "metadata": {
        "id": "oYve_9zA3y99"
      },
      "source": [
        "from google.colab import files\n",
        "files.download(\"model-fer_.h5\")"
      ],
      "execution_count": null,
      "outputs": []
    },
    {
      "cell_type": "code",
      "metadata": {
        "id": "GK8j165H33xM"
      },
      "source": [
        "files.download(\"fer_model.json\")\n",
        "files.download(\"model_wts.h5\")"
      ],
      "execution_count": null,
      "outputs": []
    },
    {
      "cell_type": "code",
      "metadata": {
        "id": "ocIO8vcU4JgF"
      },
      "source": [
        ""
      ],
      "execution_count": null,
      "outputs": []
    },
    {
      "cell_type": "code",
      "source": [
        ""
      ],
      "metadata": {
        "id": "-_3bqFmY9tuA"
      },
      "execution_count": null,
      "outputs": []
    },
    {
      "cell_type": "code",
      "source": [
        ""
      ],
      "metadata": {
        "id": "CXcXyaN89uFf"
      },
      "execution_count": null,
      "outputs": []
    }
  ]
}